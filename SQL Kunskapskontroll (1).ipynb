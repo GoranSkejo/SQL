{
 "cells": [
  {
   "cell_type": "code",
   "execution_count": 34,
   "id": "8c77c5dc",
   "metadata": {},
   "outputs": [],
   "source": [
    "import sqlalchemy\n",
    "from sqlalchemy import create_engine, Table, inspect, text, MetaData\n",
    "import pandas as pd\n",
    "import numpy as np\n",
    "import pyodbc\n",
    "import matplotlib.pyplot as plt\n",
    "import scipy.stats as stats\n",
    "from scipy.stats import t"
   ]
  },
  {
   "cell_type": "code",
   "execution_count": 35,
   "id": "cd2d9869",
   "metadata": {},
   "outputs": [
    {
     "name": "stdout",
     "output_type": "stream",
     "text": [
      "['SQL Server', 'Microsoft Access Driver (*.mdb, *.accdb)', 'Microsoft Excel Driver (*.xls, *.xlsx, *.xlsm, *.xlsb)', 'Microsoft Access Text Driver (*.txt, *.csv)', 'SQL Server Native Client RDA 11.0', 'ODBC Driver 17 for SQL Server']\n"
     ]
    }
   ],
   "source": [
    "print([driver for driver in pyodbc.drivers()])"
   ]
  },
  {
   "cell_type": "code",
   "execution_count": 36,
   "id": "816c39da",
   "metadata": {},
   "outputs": [],
   "source": [
    "server = 'localhost'\n",
    "database = 'AdventureWorks2022'\n",
    "driver = 'ODBC Driver 17 for SQL Server'\n",
    "connection_string = f\"mssql+pyodbc://@{server}/{database}?driver=ODBC+Driver+17+for+SQL+Server\"\n",
    "engine = create_engine(connection_string)\n",
    "connection = engine.connect()"
   ]
  },
  {
   "cell_type": "code",
   "execution_count": 37,
   "id": "5a796da1",
   "metadata": {},
   "outputs": [
    {
     "data": {
      "text/html": [
       "<div>\n",
       "<style scoped>\n",
       "    .dataframe tbody tr th:only-of-type {\n",
       "        vertical-align: middle;\n",
       "    }\n",
       "\n",
       "    .dataframe tbody tr th {\n",
       "        vertical-align: top;\n",
       "    }\n",
       "\n",
       "    .dataframe thead th {\n",
       "        text-align: right;\n",
       "    }\n",
       "</style>\n",
       "<table border=\"1\" class=\"dataframe\">\n",
       "  <thead>\n",
       "    <tr style=\"text-align: right;\">\n",
       "      <th></th>\n",
       "      <th>ProductCategoryID</th>\n",
       "      <th>Name</th>\n",
       "    </tr>\n",
       "  </thead>\n",
       "  <tbody>\n",
       "    <tr>\n",
       "      <th>0</th>\n",
       "      <td>4</td>\n",
       "      <td>Accessories</td>\n",
       "    </tr>\n",
       "    <tr>\n",
       "      <th>1</th>\n",
       "      <td>1</td>\n",
       "      <td>Bikes</td>\n",
       "    </tr>\n",
       "    <tr>\n",
       "      <th>2</th>\n",
       "      <td>3</td>\n",
       "      <td>Clothing</td>\n",
       "    </tr>\n",
       "    <tr>\n",
       "      <th>3</th>\n",
       "      <td>2</td>\n",
       "      <td>Components</td>\n",
       "    </tr>\n",
       "  </tbody>\n",
       "</table>\n",
       "</div>"
      ],
      "text/plain": [
       "   ProductCategoryID         Name\n",
       "0                  4  Accessories\n",
       "1                  1        Bikes\n",
       "2                  3     Clothing\n",
       "3                  2   Components"
      ]
     },
     "execution_count": 37,
     "metadata": {},
     "output_type": "execute_result"
    }
   ],
   "source": [
    "pd.read_sql(\"SELECT TOP (1000) [ProductCategoryID],[Name] FROM [AdventureWorks2022].[Production].[ProductCategory]\", engine)"
   ]
  },
  {
   "cell_type": "code",
   "execution_count": 38,
   "id": "306c30ed",
   "metadata": {
    "scrolled": true
   },
   "outputs": [
    {
     "data": {
      "text/html": [
       "<div>\n",
       "<style scoped>\n",
       "    .dataframe tbody tr th:only-of-type {\n",
       "        vertical-align: middle;\n",
       "    }\n",
       "\n",
       "    .dataframe tbody tr th {\n",
       "        vertical-align: top;\n",
       "    }\n",
       "\n",
       "    .dataframe thead th {\n",
       "        text-align: right;\n",
       "    }\n",
       "</style>\n",
       "<table border=\"1\" class=\"dataframe\">\n",
       "  <thead>\n",
       "    <tr style=\"text-align: right;\">\n",
       "      <th></th>\n",
       "      <th>SalesReasonID</th>\n",
       "      <th>Name</th>\n",
       "      <th>ReasonType</th>\n",
       "    </tr>\n",
       "  </thead>\n",
       "  <tbody>\n",
       "    <tr>\n",
       "      <th>0</th>\n",
       "      <td>1</td>\n",
       "      <td>Price</td>\n",
       "      <td>Other</td>\n",
       "    </tr>\n",
       "    <tr>\n",
       "      <th>1</th>\n",
       "      <td>2</td>\n",
       "      <td>On Promotion</td>\n",
       "      <td>Promotion</td>\n",
       "    </tr>\n",
       "    <tr>\n",
       "      <th>2</th>\n",
       "      <td>3</td>\n",
       "      <td>Magazine Advertisement</td>\n",
       "      <td>Marketing</td>\n",
       "    </tr>\n",
       "    <tr>\n",
       "      <th>3</th>\n",
       "      <td>4</td>\n",
       "      <td>Television  Advertisement</td>\n",
       "      <td>Marketing</td>\n",
       "    </tr>\n",
       "    <tr>\n",
       "      <th>4</th>\n",
       "      <td>5</td>\n",
       "      <td>Manufacturer</td>\n",
       "      <td>Other</td>\n",
       "    </tr>\n",
       "    <tr>\n",
       "      <th>5</th>\n",
       "      <td>6</td>\n",
       "      <td>Review</td>\n",
       "      <td>Other</td>\n",
       "    </tr>\n",
       "    <tr>\n",
       "      <th>6</th>\n",
       "      <td>7</td>\n",
       "      <td>Demo Event</td>\n",
       "      <td>Marketing</td>\n",
       "    </tr>\n",
       "    <tr>\n",
       "      <th>7</th>\n",
       "      <td>8</td>\n",
       "      <td>Sponsorship</td>\n",
       "      <td>Marketing</td>\n",
       "    </tr>\n",
       "    <tr>\n",
       "      <th>8</th>\n",
       "      <td>9</td>\n",
       "      <td>Quality</td>\n",
       "      <td>Other</td>\n",
       "    </tr>\n",
       "    <tr>\n",
       "      <th>9</th>\n",
       "      <td>10</td>\n",
       "      <td>Other</td>\n",
       "      <td>Other</td>\n",
       "    </tr>\n",
       "  </tbody>\n",
       "</table>\n",
       "</div>"
      ],
      "text/plain": [
       "   SalesReasonID                       Name ReasonType\n",
       "0              1                      Price      Other\n",
       "1              2               On Promotion  Promotion\n",
       "2              3     Magazine Advertisement  Marketing\n",
       "3              4  Television  Advertisement  Marketing\n",
       "4              5               Manufacturer      Other\n",
       "5              6                     Review      Other\n",
       "6              7                 Demo Event  Marketing\n",
       "7              8                Sponsorship  Marketing\n",
       "8              9                    Quality      Other\n",
       "9             10                      Other      Other"
      ]
     },
     "execution_count": 38,
     "metadata": {},
     "output_type": "execute_result"
    }
   ],
   "source": [
    "pd.read_sql(\"SELECT TOP (1000) [SalesReasonID],[Name],[ReasonType] FROM [AdventureWorks2022].[Sales].[SalesReason]\", engine)"
   ]
  },
  {
   "cell_type": "code",
   "execution_count": 39,
   "id": "6bf2fbd3",
   "metadata": {
    "scrolled": true
   },
   "outputs": [
    {
     "data": {
      "text/html": [
       "<div>\n",
       "<style scoped>\n",
       "    .dataframe tbody tr th:only-of-type {\n",
       "        vertical-align: middle;\n",
       "    }\n",
       "\n",
       "    .dataframe tbody tr th {\n",
       "        vertical-align: top;\n",
       "    }\n",
       "\n",
       "    .dataframe thead th {\n",
       "        text-align: right;\n",
       "    }\n",
       "</style>\n",
       "<table border=\"1\" class=\"dataframe\">\n",
       "  <thead>\n",
       "    <tr style=\"text-align: right;\">\n",
       "      <th></th>\n",
       "      <th>TerritoryID</th>\n",
       "      <th>Name</th>\n",
       "      <th>CountryRegionCode</th>\n",
       "      <th>SalesLastYear</th>\n",
       "    </tr>\n",
       "  </thead>\n",
       "  <tbody>\n",
       "    <tr>\n",
       "      <th>0</th>\n",
       "      <td>1</td>\n",
       "      <td>Northwest</td>\n",
       "      <td>US</td>\n",
       "      <td>3.298694e+06</td>\n",
       "    </tr>\n",
       "    <tr>\n",
       "      <th>1</th>\n",
       "      <td>2</td>\n",
       "      <td>Northeast</td>\n",
       "      <td>US</td>\n",
       "      <td>3.607149e+06</td>\n",
       "    </tr>\n",
       "    <tr>\n",
       "      <th>2</th>\n",
       "      <td>3</td>\n",
       "      <td>Central</td>\n",
       "      <td>US</td>\n",
       "      <td>3.205014e+06</td>\n",
       "    </tr>\n",
       "    <tr>\n",
       "      <th>3</th>\n",
       "      <td>4</td>\n",
       "      <td>Southwest</td>\n",
       "      <td>US</td>\n",
       "      <td>5.366576e+06</td>\n",
       "    </tr>\n",
       "    <tr>\n",
       "      <th>4</th>\n",
       "      <td>5</td>\n",
       "      <td>Southeast</td>\n",
       "      <td>US</td>\n",
       "      <td>3.925071e+06</td>\n",
       "    </tr>\n",
       "    <tr>\n",
       "      <th>5</th>\n",
       "      <td>6</td>\n",
       "      <td>Canada</td>\n",
       "      <td>CA</td>\n",
       "      <td>5.693989e+06</td>\n",
       "    </tr>\n",
       "    <tr>\n",
       "      <th>6</th>\n",
       "      <td>7</td>\n",
       "      <td>France</td>\n",
       "      <td>FR</td>\n",
       "      <td>2.396540e+06</td>\n",
       "    </tr>\n",
       "    <tr>\n",
       "      <th>7</th>\n",
       "      <td>8</td>\n",
       "      <td>Germany</td>\n",
       "      <td>DE</td>\n",
       "      <td>1.307950e+06</td>\n",
       "    </tr>\n",
       "    <tr>\n",
       "      <th>8</th>\n",
       "      <td>9</td>\n",
       "      <td>Australia</td>\n",
       "      <td>AU</td>\n",
       "      <td>2.278549e+06</td>\n",
       "    </tr>\n",
       "    <tr>\n",
       "      <th>9</th>\n",
       "      <td>10</td>\n",
       "      <td>United Kingdom</td>\n",
       "      <td>GB</td>\n",
       "      <td>1.635823e+06</td>\n",
       "    </tr>\n",
       "  </tbody>\n",
       "</table>\n",
       "</div>"
      ],
      "text/plain": [
       "   TerritoryID            Name CountryRegionCode  SalesLastYear\n",
       "0            1       Northwest                US   3.298694e+06\n",
       "1            2       Northeast                US   3.607149e+06\n",
       "2            3         Central                US   3.205014e+06\n",
       "3            4       Southwest                US   5.366576e+06\n",
       "4            5       Southeast                US   3.925071e+06\n",
       "5            6          Canada                CA   5.693989e+06\n",
       "6            7          France                FR   2.396540e+06\n",
       "7            8         Germany                DE   1.307950e+06\n",
       "8            9       Australia                AU   2.278549e+06\n",
       "9           10  United Kingdom                GB   1.635823e+06"
      ]
     },
     "execution_count": 39,
     "metadata": {},
     "output_type": "execute_result"
    }
   ],
   "source": [
    "pd.read_sql(\"SELECT TOP (1000) [TerritoryID],[Name],[CountryRegionCode],[SalesLastYear]\\\n",
    "FROM [AdventureWorks2022].[Sales].[SalesTerritory]\", engine)"
   ]
  },
  {
   "cell_type": "code",
   "execution_count": 40,
   "id": "8443e762",
   "metadata": {},
   "outputs": [
    {
     "name": "stdout",
     "output_type": "stream",
     "text": [
      "       t1_Column1  t1_Column2  t2_Column1  t2_Column2\n",
      "0           46681           2           2           1\n",
      "1           46682           2           2           1\n",
      "2           46688           2           2           1\n",
      "3           46689           2           2           1\n",
      "4           46690           2           2           1\n",
      "...           ...         ...         ...         ...\n",
      "27642       75088          10          10           6\n",
      "27643       75094          10          10           6\n",
      "27644       75111          10          10           6\n",
      "27645       75099          10          10           6\n",
      "27646       75107          10          10           6\n",
      "\n",
      "[27647 rows x 4 columns]\n"
     ]
    }
   ],
   "source": [
    "query_join = \"\"\"\n",
    "    SELECT\n",
    "        t1.SalesOrderID AS t1_Column1,\n",
    "        t1.SalesReasonID AS t1_Column2,\n",
    "        t2.CustomerID AS t2_Column1,\n",
    "        t2.TerritoryID AS t2_Column2\n",
    "    FROM\n",
    "        Sales.SalesOrderHeaderSalesReason AS t1\n",
    "    INNER JOIN \n",
    "        Sales.Customer AS t2 ON t1.SalesReasonID = t2.CustomerID\n",
    "    ORDER BY t2_Column2;\n",
    "\"\"\"\n",
    "\n",
    "df_j = pd.read_sql(query_join, engine)\n",
    "\n",
    "print(df_j)"
   ]
  },
  {
   "cell_type": "code",
   "execution_count": 41,
   "id": "4dbb3343",
   "metadata": {},
   "outputs": [
    {
     "name": "stdout",
     "output_type": "stream",
     "text": [
      "20988\n",
      "3713\n",
      "27647\n",
      "0.893442326473035\n"
     ]
    }
   ],
   "source": [
    "# här tar jag fram urvalsstorleken och andelen av de olika regionerna samt hela populationsstorleken av de som svarat\n",
    "\n",
    "NorthwestUS = [] \n",
    "SouthwestUS = []\n",
    "\n",
    "for i in df_j[\"t2_Column2\"]:\n",
    "    if i == 1:\n",
    "        NorthwestUS.append(i)\n",
    "    elif i == 4:\n",
    "        SouthwestUS.append(i)\n",
    "\n",
    "print(len(NorthwestUS))\n",
    "print(len(SouthwestUS))\n",
    "print(len(df_j[\"t2_Column2\"])) \n",
    "print((len(NorthwestUS)+len(SouthwestUS))/(len(df_j[\"t2_Column2\"])))\n",
    "\n",
    "# Som vi ser i resultatet utgör dessa två regioner den stora majoriteten av kundbasen som svarat på frågan om köpmotiv."
   ]
  },
  {
   "cell_type": "code",
   "execution_count": 42,
   "id": "6cd14991",
   "metadata": {},
   "outputs": [
    {
     "name": "stdout",
     "output_type": "stream",
     "text": [
      "Price = 17473 Promotion = 3515 Magazine_Ad = 0 Television_Ad = 0 Manufacturer = 0 Review = 0 Demo_Event = 0 Sponsorship = 0 Quality = 0 Other = 0\n"
     ]
    }
   ],
   "source": [
    "# Jag har valt att jämföra nordvästra och sydvästra USA. mitt nästa steg är att ta reda på hur fördelningen av de olika \n",
    "# köpmotiven ser ut i dessa två regioner.\n",
    "\n",
    "Price = []\n",
    "Promotion = []\n",
    "Magazine_Ad = []\n",
    "Television_Ad = []\n",
    "Manufacturer = []\n",
    "Review = []\n",
    "Demo_Event = []\n",
    "Sponsorship = []\n",
    "Quality = []\n",
    "Other = []\n",
    "\n",
    "# här tar jag fram fördelningen för nordvästra USA\n",
    "\n",
    "for t1_2, t2_2 in zip(df_j[\"t1_Column2\"], df_j[\"t2_Column2\"]):\n",
    "    if t2_2 == 1:\n",
    "        if t1_2 == 1:\n",
    "            Price.append(t1_2)\n",
    "        elif t1_2 == 2:\n",
    "            Promotion.append(t1_2)\n",
    "        elif t1_2 == 3:\n",
    "            Magazine_Ad.append(t1_2)\n",
    "        elif t1_2 == 4:\n",
    "            Television_Ad.append(t1_2)\n",
    "        elif t1_2 == 5:\n",
    "            Manufacturer.append(t1_2)\n",
    "        elif t1_2 == 6:\n",
    "            Review.append(t1_2)\n",
    "        elif t1_2 == 7:\n",
    "            Demo_Event.append(t1_2)\n",
    "        elif t1_2 == 8:\n",
    "            Sponsorship.append(t1_2)\n",
    "        elif t1_2 == 9:\n",
    "            Quality.append(t1_2)\n",
    "        elif t1_2 == 10: \n",
    "            Other.append(t1_2)\n",
    "\n",
    "print('Price =', len(Price), 'Promotion =', len(Promotion), 'Magazine_Ad =', len(Magazine_Ad), \\\n",
    "      'Television_Ad =', len(Television_Ad), 'Manufacturer =', len(Manufacturer), 'Review =', len(Review), \\\n",
    "      'Demo_Event =', len(Demo_Event), 'Sponsorship =', len(Sponsorship), 'Quality =', len(Quality), 'Other =', len(Other))"
   ]
  },
  {
   "cell_type": "code",
   "execution_count": 43,
   "id": "5f827492",
   "metadata": {},
   "outputs": [
    {
     "name": "stdout",
     "output_type": "stream",
     "text": [
      "Price = 0 Promotion = 0 Magazine_Ad = 0 Television_Ad = 722 Manufacturer = 1746 Review = 1245 Demo_Event = 0 Sponsorship = 0 Quality = 0 Other = 0\n"
     ]
    }
   ],
   "source": [
    "# här tar jag fram fördelningen för sydvästra USA\n",
    "\n",
    "price = []\n",
    "promotion = []\n",
    "magazine_Ad = []\n",
    "television_Ad = []\n",
    "manufacturer = []\n",
    "review = []\n",
    "demo_Event = []\n",
    "sponsorship = []\n",
    "quality = []\n",
    "other = []\n",
    "\n",
    "for t1_2, t2_2 in zip(df_j[\"t1_Column2\"], df_j[\"t2_Column2\"]):\n",
    "    if t2_2 == 4:\n",
    "        if t1_2 == 1:\n",
    "            price.append(t1_2)\n",
    "        elif t1_2 == 2:\n",
    "            promotion.append(t1_2)\n",
    "        elif t1_2 == 3:\n",
    "            magazine_Ad.append(t1_2)\n",
    "        elif t1_2 == 4:\n",
    "            television_Ad.append(t1_2)\n",
    "        elif t1_2 == 5:\n",
    "            manufacturer.append(t1_2)\n",
    "        elif t1_2 == 6:\n",
    "            review.append(t1_2)\n",
    "        elif t1_2 == 7:\n",
    "            demo_Event.append(t1_2)\n",
    "        elif t1_2 == 8:\n",
    "            sponsorship.append(t1_2)\n",
    "        elif t1_2 == 9:\n",
    "            quality.append(t1_2)\n",
    "        elif t1_2 == 10: \n",
    "            other.append(t1_2)\n",
    "            \n",
    "print('Price =', len(price), 'Promotion =', len(promotion), 'Magazine_Ad =', len(magazine_Ad), \\\n",
    "      'Television_Ad =', len(television_Ad), 'Manufacturer =', len(manufacturer), 'Review =', len(review), \\\n",
    "      'Demo_Event =', len(demo_Event), 'Sponsorship =', len(sponsorship), 'Quality =', len(quality), 'Other =', len(other))"
   ]
  },
  {
   "cell_type": "code",
   "execution_count": 44,
   "id": "c07206e1",
   "metadata": {},
   "outputs": [
    {
     "name": "stdout",
     "output_type": "stream",
     "text": [
      "   TerritoryID       Name CountryRegionCode  SalesLastYear\n",
      "0            1  Northwest                US   3.298694e+06\n",
      "1            2  Northeast                US   3.607149e+06\n",
      "2            3    Central                US   3.205014e+06\n",
      "3            4  Southwest                US   5.366576e+06\n",
      "4            5  Southeast                US   3.925071e+06\n"
     ]
    }
   ],
   "source": [
    "# hur ser försäljningssiffrorna ut i de två valda regionerna i relation till hela landet (USA)\n",
    "\n",
    "query_sales = \"\"\"\n",
    "SELECT [TerritoryID],[Name],[CountryRegionCode],[SalesLastYear]\\\n",
    "FROM [AdventureWorks2022].[Sales].[SalesTerritory] WHERE TerritoryID IN (1, 2, 3, 4, 5);\n",
    "\"\"\"\n",
    "\n",
    "df_s = pd.read_sql(query_sales, engine)\n",
    "print(df_s)"
   ]
  },
  {
   "cell_type": "code",
   "execution_count": 45,
   "id": "3bfcef25",
   "metadata": {},
   "outputs": [
    {
     "name": "stdout",
     "output_type": "stream",
     "text": [
      "Sales in Northwest US: 3298694.4938\n",
      "Sales in Southwest US: 5366575.7098\n",
      "Total sales last year: 19402504.6492\n"
     ]
    }
   ],
   "source": [
    "Northwest_sales = df_s.loc[0]['SalesLastYear']\n",
    "print(\"Sales in Northwest US:\", Northwest_sales)\n",
    "\n",
    "Southwest_sales = df_s.loc[3]['SalesLastYear']\n",
    "print(\"Sales in Southwest US:\", Southwest_sales)\n",
    "\n",
    "total_sales = df_s['SalesLastYear'].sum()\n",
    "print(\"Total sales last year:\", total_sales)"
   ]
  },
  {
   "cell_type": "code",
   "execution_count": 46,
   "id": "2789d133",
   "metadata": {},
   "outputs": [
    {
     "data": {
      "image/png": "[encoded data removed]",
      "text/plain": [
       "<Figure size 640x480 with 1 Axes>"
      ]
     },
     "metadata": {},
     "output_type": "display_data"
    }
   ],
   "source": [
    "x_values = df_s['Name']\n",
    "y_values = df_s['SalesLastYear']\n",
    "\n",
    "plt.bar(x_values, y_values)\n",
    "plt.xlabel('Sales per geografic region')\n",
    "plt.ylabel('Total amount in millions')\n",
    "plt.title('Sales Last Year')\n",
    "plt.show()"
   ]
  },
  {
   "cell_type": "code",
   "execution_count": 47,
   "id": "385117eb",
   "metadata": {},
   "outputs": [
    {
     "name": "stdout",
     "output_type": "stream",
     "text": [
      "Mean value of the sales last year: 3880500.92984\n",
      "\n",
      "Standard deviation from the mean value: 877483.2350244084\n"
     ]
    }
   ],
   "source": [
    "# nästa steg blir att mäta signifikansen med hjälp av konfidensintervall och därmed se om vi kan dra några slutsatser samt vilka\n",
    "\n",
    "mean_sales = df_s['SalesLastYear'].mean()\n",
    "print(\"Mean value of the sales last year:\", mean_sales)\n",
    "\n",
    "print()\n",
    "\n",
    "std_sales = df_s['SalesLastYear'].std()\n",
    "print(\"Standard deviation from the mean value:\", std_sales)"
   ]
  },
  {
   "cell_type": "code",
   "execution_count": 48,
   "id": "8e3377c3",
   "metadata": {},
   "outputs": [
    {
     "name": "stdout",
     "output_type": "stream",
     "text": [
      "Konfidensintervall: (-3464152.855626156, -671609.5763738449)\n"
     ]
    }
   ],
   "source": [
    "antal_observationer = 4 # avser åren 2011-2014\n",
    "antal_frihetsgrader = antal_observationer - 1\n",
    "\n",
    "stf = std_sales / np.sqrt(antal_observationer) # standardfelet för medelvärdet\n",
    "\n",
    "# Beräkning av konfidensintervallet för skillnaden mellan värdena\n",
    "\n",
    "t_värde = stats.t.ppf(0.975, df=antal_frihetsgrader)  # 0.975 för 95% konfidensnivå\n",
    "KI_low = (Northwest_sales - Southwest_sales) - t_värde * stf\n",
    "KI_high = (Northwest_sales - Southwest_sales) + t_värde * stf \n",
    "\n",
    "print(f\"Konfidensintervall: ({KI_low}, {KI_high})\")"
   ]
  },
  {
   "cell_type": "code",
   "execution_count": 49,
   "id": "144a3573",
   "metadata": {},
   "outputs": [
    {
     "data": {
      "image/png": "[encoded data removed]",
      "text/plain": [
       "<Figure size 800x600 with 1 Axes>"
      ]
     },
     "metadata": {},
     "output_type": "display_data"
    }
   ],
   "source": [
    "plt.figure(figsize=(8, 6))\n",
    "\n",
    "# Calculate the confidence interval bounds\n",
    "lower_bound = (Southwest_sales - Northwest_sales) - KI_low\n",
    "upper_bound = (Southwest_sales - Northwest_sales) + KI_high\n",
    "\n",
    "# jag skriver \"Southwest_sales - Northwest_sales\" och inte tvärtom, eftersom \"yerr\"-argumentet inte kan ha ett negativt värde\n",
    "\n",
    "plt.errorbar(x=[1], y=[(Southwest_sales - Northwest_sales)], \n",
    "             yerr=[[lower_bound], [upper_bound]],\n",
    "             fmt='o', capsize=5, label='Difference in Means')\n",
    "\n",
    "plt.axhline(0, color='black', linestyle='--', linewidth=2, label='Zero Difference')\n",
    "\n",
    "plt.title('Confidence Interval for the Difference in Means')\n",
    "plt.xlabel('')\n",
    "plt.ylabel('Difference in Means')\n",
    "plt.legend()\n",
    "plt.show()"
   ]
  },
  {
   "cell_type": "code",
   "execution_count": 50,
   "id": "fbb9c5e8",
   "metadata": {},
   "outputs": [
    {
     "data": {
      "text/plain": [
       "5"
      ]
     },
     "execution_count": 50,
     "metadata": {},
     "output_type": "execute_result"
    }
   ],
   "source": [
    "len(df_s)"
   ]
  },
  {
   "cell_type": "code",
   "execution_count": 51,
   "id": "32fdda9f",
   "metadata": {},
   "outputs": [
    {
     "name": "stdout",
     "output_type": "stream",
     "text": [
      "Confidence Interval for Sales in Northwest US: [1324068.204283772, 5273320.783316228]\n",
      "Confidence Interval for Sales in Southwest US: [3391949.4202837725, 7341201.999316229]\n"
     ]
    }
   ],
   "source": [
    "# Beräkning av konfidensintervall för skattningarna var för sig\n",
    "\n",
    "t_score = t.ppf(0.975, antal_frihetsgrader)\n",
    "\n",
    "df_s_subset = df_s.loc[[0, 3]] # jag tar med enbart dessa 2 rader och inte samtliga 5 inom kolumnen\n",
    "\n",
    "KI_Northwest = [\n",
    "    Northwest_sales - t_score * (std_sales / np.sqrt(len(df_s_subset))), \n",
    "    Northwest_sales + t_score * (std_sales / np.sqrt(len(df_s_subset)))\n",
    "]\n",
    "\n",
    "KI_Southwest = [\n",
    "    Southwest_sales - t_score * (std_sales / np.sqrt(len(df_s_subset))), \n",
    "    Southwest_sales + t_score * (std_sales / np.sqrt(len(df_s_subset)))\n",
    "]\n",
    "\n",
    "print(\"Confidence Interval for Sales in Northwest US:\", KI_Northwest)\n",
    "print(\"Confidence Interval for Sales in Southwest US:\", KI_Southwest)"
   ]
  },
  {
   "cell_type": "code",
   "execution_count": 52,
   "id": "8ac09543",
   "metadata": {},
   "outputs": [
    {
     "data": {
      "image/png": "[encoded data removed]",
      "text/plain": [
       "<Figure size 640x480 with 1 Axes>"
      ]
     },
     "metadata": {},
     "output_type": "display_data"
    }
   ],
   "source": [
    "ki_northwest = np.array(KI_Northwest)\n",
    "ki_southwest = np.array(KI_Southwest)\n",
    "\n",
    "# jag illustrerar resultatet med en plot\n",
    "plt.errorbar(x=['Northwest', 'Southwest'], y=[Northwest_sales, Southwest_sales],\n",
    "             yerr=[(ki_northwest[1] - Northwest_sales, Northwest_sales - ki_northwest[0]),\n",
    "                   (ki_southwest[1] - Southwest_sales, Southwest_sales - ki_southwest[0])],\n",
    "             fmt='o', capsize=5, label='95% Confidence Interval')\n",
    "\n",
    "plt.title('Comparison of Sales in Northwest and Southwest US')\n",
    "plt.xlabel('Region')\n",
    "plt.ylabel('Sales')\n",
    "plt.legend()\n",
    "plt.show()\n",
    "\n",
    "# Det framgår i illustrationen nedan att konfidensintervallen till stor del överlappar varandra."
   ]
  },
  {
   "cell_type": "code",
   "execution_count": 53,
   "id": "72d30bed",
   "metadata": {},
   "outputs": [
    {
     "data": {
      "text/plain": [
       "3520"
      ]
     },
     "execution_count": 53,
     "metadata": {},
     "output_type": "execute_result"
    }
   ],
   "source": [
    "query_customer_territory_1 = \"\"\"\n",
    "SELECT * \n",
    "  FROM [AdventureWorks2022].[Sales].[Customer]\n",
    "  WHERE TerritoryID IN (1);\n",
    "\"\"\"\n",
    "q_c_t_1 =pd.read_sql(query_customer_territory_1, engine)\n",
    "len(q_c_t_1)"
   ]
  },
  {
   "cell_type": "code",
   "execution_count": 54,
   "id": "6561ad9c",
   "metadata": {},
   "outputs": [
    {
     "data": {
      "text/plain": [
       "4696"
      ]
     },
     "execution_count": 54,
     "metadata": {},
     "output_type": "execute_result"
    }
   ],
   "source": [
    "query_customer_territory_4 = \"\"\"\n",
    "SELECT * \n",
    "  FROM [AdventureWorks2022].[Sales].[Customer]\n",
    "  WHERE TerritoryID IN (4);\n",
    "\"\"\"\n",
    "q_c_t_4 =pd.read_sql(query_customer_territory_4, engine)\n",
    "len(q_c_t_4)"
   ]
  },
  {
   "cell_type": "code",
   "execution_count": 55,
   "id": "4c2d512b",
   "metadata": {},
   "outputs": [
    {
     "name": "stdout",
     "output_type": "stream",
     "text": [
      "Andelen kunder i nordvästra USA som angett köpmotiv: 5.9625\n",
      "\n",
      "Andelen kunder i sydvästra USA som angett köpmotiv: 0.7906729131175468\n"
     ]
    }
   ],
   "source": [
    "print(\"Andelen kunder i nordvästra USA som angett köpmotiv:\", len(NorthwestUS)/len(q_c_t_1))\n",
    "print()\n",
    "print(\"Andelen kunder i sydvästra USA som angett köpmotiv:\", len(SouthwestUS)/len(q_c_t_4))"
   ]
  },
  {
   "cell_type": "code",
   "execution_count": null,
   "id": "424f9817",
   "metadata": {},
   "outputs": [],
   "source": []
  }
 ],
 "metadata": {
  "kernelspec": {
   "display_name": "Python 3 (ipykernel)",
   "language": "python",
   "name": "python3"
  },
  "language_info": {
   "codemirror_mode": {
    "name": "ipython",
    "version": 3
   },
   "file_extension": ".py",
   "mimetype": "text/x-python",
   "name": "python",
   "nbconvert_exporter": "python",
   "pygments_lexer": "ipython3",
   "version": "3.11.5"
  }
 },
 "nbformat": 4,
 "nbformat_minor": 5
}
